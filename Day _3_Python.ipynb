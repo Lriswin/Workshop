{
  "cells": [
    {
      "cell_type": "markdown",
      "metadata": {
        "id": "zIq5i8I5nIVb"
      },
      "source": [
        "# Feel Free to Play around Jupyter Notebook\n",
        "## If you are stuck don't worry we are always here to assist you"
      ]
    },
    {
      "cell_type": "markdown",
      "metadata": {
        "id": "5avRLAjJnIVq"
      },
      "source": [
        "# Day 3: Python Scripting + API Usage Practice"
      ]
    },
    {
      "cell_type": "markdown",
      "metadata": {
        "id": "DjsSNx38nIVr"
      },
      "source": [
        "### Syllabus:\n",
        "- Python review: loops, functions, data structures\n",
        "- Writing reusable scripts\n",
        "- Consuming third-party APIs (e.g., OpenWeather, Gemini)\n",
        "- JSON parsing in Python"
      ]
    },
    {
      "cell_type": "markdown",
      "metadata": {
        "id": "MiL9SkCjnIVu"
      },
      "source": [
        "# 1. The Magic of Print() 🎭\n",
        "Your first Python superpower!"
      ]
    },
    {
      "cell_type": "code",
      "execution_count": 1,
      "metadata": {
        "id": "ujRHN_iq2GIn",
        "outputId": "53170281-7c36-4980-f882-3a887a1c8af6",
        "colab": {
          "base_uri": "https://localhost:8080/"
        }
      },
      "outputs": [
        {
          "output_type": "stream",
          "name": "stdout",
          "text": [
            "Hello, World!\n"
          ]
        }
      ],
      "source": [
        "print(\"Hello, World!\")"
      ]
    },
    {
      "cell_type": "code",
      "execution_count": 3,
      "metadata": {
        "id": "XtAjsoN3nIVz",
        "outputId": "38b3b883-9ba1-41ea-ab5f-53ff94267a1f",
        "colab": {
          "base_uri": "https://localhost:8080/"
        }
      },
      "outputs": [
        {
          "output_type": "stream",
          "name": "stdout",
          "text": [
            "Hello, Future Python Developer!\n"
          ]
        }
      ],
      "source": [
        "# Basic printing\n",
        "print(\"Hello, Future Python Developer!\")"
      ]
    },
    {
      "cell_type": "code",
      "execution_count": 4,
      "metadata": {
        "id": "NqyZ_oYrnIV1",
        "outputId": "b8094886-7101-42f9-ee4d-3b3e60628e20",
        "colab": {
          "base_uri": "https://localhost:8080/"
        }
      },
      "outputs": [
        {
          "output_type": "stream",
          "name": "stdout",
          "text": [
            "My name is Ram and I'm 20 years old\n"
          ]
        }
      ],
      "source": [
        "# Multiple items\n",
        "print(\"My name is\", \"Ram\", \"and I'm\", 20, \"years old\")"
      ]
    },
    {
      "cell_type": "code",
      "execution_count": 2,
      "metadata": {
        "id": "zpSay8JqnIV3",
        "outputId": "99e9b4d4-a04d-4633-eddf-02cbe020b834",
        "colab": {
          "base_uri": "https://localhost:8080/"
        }
      },
      "outputs": [
        {
          "output_type": "stream",
          "name": "stdout",
          "text": [
            "Cat # Dog # Bird\n"
          ]
        }
      ],
      "source": [
        "# With separators\n",
        "print(\"Cat\", \"Dog\", \"Bird\", sep=\" # \")"
      ]
    },
    {
      "cell_type": "markdown",
      "metadata": {
        "id": "4koxAwG_nIV4"
      },
      "source": [
        "#### Question\n",
        "```\n",
        "print(\"🎉\" * 10)\n",
        "```"
      ]
    },
    {
      "cell_type": "code",
      "execution_count": 5,
      "metadata": {
        "id": "UEM4GeqInIV5",
        "outputId": "8dae09df-456a-4b5e-e18c-b660fcaac5e9",
        "colab": {
          "base_uri": "https://localhost:8080/"
        }
      },
      "outputs": [
        {
          "output_type": "stream",
          "name": "stdout",
          "text": [
            "eeeeeeeeee\n"
          ]
        }
      ],
      "source": [
        "print(\"e\"*10)"
      ]
    },
    {
      "cell_type": "markdown",
      "metadata": {
        "id": "bgc9ADZonIV6"
      },
      "source": [
        "# 2.  Input() - Talk to Your Computer 💬\n",
        "Making programs interactive (finally!)"
      ]
    },
    {
      "cell_type": "code",
      "execution_count": 13,
      "metadata": {
        "id": "znhCNNrInIV6",
        "outputId": "d095a718-a468-4c73-b8a6-7d5abaa28e42",
        "colab": {
          "base_uri": "https://localhost:8080/"
        }
      },
      "outputs": [
        {
          "output_type": "stream",
          "name": "stdout",
          "text": [
            "What's your name? Shreya \n",
            "Hello, Shreya !\n"
          ]
        }
      ],
      "source": [
        "# Basic input\n",
        "name = input(\"What's your name? \")\n",
        "print(f\"Hello, {name}!\")"
      ]
    },
    {
      "cell_type": "code",
      "execution_count": 14,
      "metadata": {
        "id": "x2-D7eMPnIV8",
        "outputId": "75c96e23-bafd-4ed2-f681-b39985001069",
        "colab": {
          "base_uri": "https://localhost:8080/"
        }
      },
      "outputs": [
        {
          "output_type": "stream",
          "name": "stdout",
          "text": [
            "How old are you? 19\n",
            "You are 19 years old\n"
          ]
        }
      ],
      "source": [
        "# Input is always a string\n",
        "age = input(\"How old are you? \")\n",
        "print(f\"You are {age} years old\")"
      ]
    },
    {
      "cell_type": "markdown",
      "metadata": {
        "id": "8XaUREwmnIV9"
      },
      "source": [
        "Remember: input() always returns a string, even if you type numbers!"
      ]
    },
    {
      "cell_type": "markdown",
      "metadata": {
        "id": "Tyi3ADg1k_Kb"
      },
      "source": [
        "# 3. Variables - Your Data Storage Units 📦\n",
        "Containers for storing data values. In Python, variables do not need explicit declaration to reserve memory space."
      ]
    },
    {
      "cell_type": "code",
      "execution_count": 6,
      "metadata": {
        "id": "bQkkerpA0O8M",
        "outputId": "2ccbd97f-c625-42e8-a33a-af8390cf155d",
        "colab": {
          "base_uri": "https://localhost:8080/",
          "height": 110
        }
      },
      "outputs": [
        {
          "output_type": "error",
          "ename": "IndentationError",
          "evalue": "unexpected indent (ipython-input-6-2195598232.py, line 2)",
          "traceback": [
            "\u001b[0;36m  File \u001b[0;32m\"/tmp/ipython-input-6-2195598232.py\"\u001b[0;36m, line \u001b[0;32m2\u001b[0m\n\u001b[0;31m    8=\"p\"\u001b[0m\n\u001b[0m    ^\u001b[0m\n\u001b[0;31mIndentationError\u001b[0m\u001b[0;31m:\u001b[0m unexpected indent\n"
          ]
        }
      ],
      "source": [
        "# Numbers\n",
        "pizza_slices = 8\n",
        "price = 12.99"
      ]
    },
    {
      "cell_type": "code",
      "execution_count": 12,
      "metadata": {
        "id": "hCgRk5itnIV_",
        "outputId": "b450bc28-e224-469c-e585-01637129793c",
        "colab": {
          "base_uri": "https://localhost:8080/"
        }
      },
      "outputs": [
        {
          "output_type": "stream",
          "name": "stdout",
          "text": [
            "😎 The Matrix\n"
          ]
        }
      ],
      "source": [
        "# Text (strings)\n",
        "favorite_movie = \"The Matrix\"\n",
        "emoji_mood = \"😎\"\n",
        "print(emoji_mood, favorite_movie)"
      ]
    },
    {
      "cell_type": "code",
      "execution_count": null,
      "metadata": {
        "id": "JHzS5CE0nIWA"
      },
      "outputs": [],
      "source": [
        "# Boolean (True/False)\n",
        "is_hungry = True\n",
        "loves_python = False  # Obviously!"
      ]
    },
    {
      "cell_type": "markdown",
      "metadata": {
        "id": "ZlW_HSxcnIWB"
      },
      "source": [
        "#### Question\n",
        "Does this work??\n",
        "```\n",
        "x, y, z = 1, 2, 3\n",
        "```"
      ]
    },
    {
      "cell_type": "code",
      "execution_count": 18,
      "metadata": {
        "id": "N23oZwwNnIWC",
        "outputId": "99c24735-5cd7-4c6f-bcc0-4d7e98a32f38",
        "colab": {
          "base_uri": "https://localhost:8080/"
        }
      },
      "outputs": [
        {
          "output_type": "stream",
          "name": "stdout",
          "text": [
            "5.6000000000000005\n"
          ]
        }
      ],
      "source": [
        "x=1\n",
        "y=9\n",
        "z=0.56\n",
        "print((x+y)*z)"
      ]
    },
    {
      "cell_type": "markdown",
      "metadata": {
        "id": "lEeF6AaInIWC"
      },
      "source": [
        "\"Python variables are like teenagers - they change type whenever they want!\""
      ]
    },
    {
      "cell_type": "markdown",
      "metadata": {
        "id": "C_FixEAOnIWD"
      },
      "source": [
        "# 4. Type Conversion - The Shape Shifters 🔄\n",
        "- Converting data types using functions like `int()`, `float()`, `str()`, `bool()`.\n",
        "\n",
        "**Data Types**:\n",
        "- Common data types in Python include integers (`int`), floating-point numbers (`float`), strings (`str`), booleans (`bool`), and lists (`list`)."
      ]
    },
    {
      "cell_type": "code",
      "execution_count": 19,
      "metadata": {
        "id": "LcakCX0r2r-L",
        "outputId": "4c20523e-2a1d-4e50-a43b-f695144fc4b5",
        "colab": {
          "base_uri": "https://localhost:8080/"
        }
      },
      "outputs": [
        {
          "output_type": "stream",
          "name": "stdout",
          "text": [
            "<class 'str'>\n"
          ]
        }
      ],
      "source": [
        "# String to Integer\n",
        "age_text = \"25\"\n",
        "print(type(age_text))"
      ]
    },
    {
      "cell_type": "code",
      "execution_count": 20,
      "metadata": {
        "id": "4Gja-TCCnIWD",
        "outputId": "073bbe24-c003-49f8-8efc-bab6a95569eb",
        "colab": {
          "base_uri": "https://localhost:8080/",
          "height": 147
        }
      },
      "outputs": [
        {
          "output_type": "error",
          "ename": "TypeError",
          "evalue": "can only concatenate str (not \"int\") to str",
          "traceback": [
            "\u001b[0;31m---------------------------------------------------------------------------\u001b[0m",
            "\u001b[0;31mTypeError\u001b[0m                                 Traceback (most recent call last)",
            "\u001b[0;32m/tmp/ipython-input-20-1821056913.py\u001b[0m in \u001b[0;36m<cell line: 0>\u001b[0;34m()\u001b[0m\n\u001b[0;32m----> 1\u001b[0;31m \u001b[0mprint\u001b[0m\u001b[0;34m(\u001b[0m\u001b[0mage_text\u001b[0m \u001b[0;34m+\u001b[0m \u001b[0;36m5\u001b[0m\u001b[0;34m)\u001b[0m\u001b[0;34m\u001b[0m\u001b[0;34m\u001b[0m\u001b[0m\n\u001b[0m",
            "\u001b[0;31mTypeError\u001b[0m: can only concatenate str (not \"int\") to str"
          ]
        }
      ],
      "source": [
        "print(age_text + 5)"
      ]
    },
    {
      "cell_type": "code",
      "execution_count": 21,
      "metadata": {
        "id": "QFLo9eRmnIWE",
        "outputId": "10025bba-c2b4-44d4-c3f0-f3fcb758f30d",
        "colab": {
          "base_uri": "https://localhost:8080/"
        }
      },
      "outputs": [
        {
          "output_type": "stream",
          "name": "stdout",
          "text": [
            "24\n"
          ]
        }
      ],
      "source": [
        "age_number = int(age)\n",
        "print(age_number + 5)  # Now we can do math!"
      ]
    },
    {
      "cell_type": "code",
      "execution_count": 25,
      "metadata": {
        "id": "FQm2bUF7nIWE",
        "outputId": "5770993d-d5a0-4fa6-ad02-a633324db2e7",
        "colab": {
          "base_uri": "https://localhost:8080/",
          "height": 36
        }
      },
      "outputs": [
        {
          "output_type": "execute_result",
          "data": {
            "text/plain": [
              "'Your score is 100'"
            ],
            "application/vnd.google.colaboratory.intrinsic+json": {
              "type": "string"
            }
          },
          "metadata": {},
          "execution_count": 25
        }
      ],
      "source": [
        "# Integer to String\n",
        "score = str(100)\n",
        "\n",
        "#message = \"Your score is \" + str(score)\n",
        "message=\"Your score is\"\n",
        "message + score"
      ]
    },
    {
      "cell_type": "code",
      "execution_count": 28,
      "metadata": {
        "id": "hj-s5jdpnIWF",
        "outputId": "881f45b8-b034-4956-c516-c742356d6924",
        "colab": {
          "base_uri": "https://localhost:8080/"
        }
      },
      "outputs": [
        {
          "output_type": "execute_result",
          "data": {
            "text/plain": [
              "int"
            ]
          },
          "metadata": {},
          "execution_count": 28
        }
      ],
      "source": [
        "# Float conversions\n",
        "price = float(\"19.99\")\n",
        "whole_price = int(price)  # 19 (loses decimal)\n",
        "whole_price\n",
        "type(whole_price)"
      ]
    },
    {
      "cell_type": "code",
      "execution_count": 29,
      "metadata": {
        "id": "VeQ9pWCPnIWF",
        "outputId": "16260252-46e7-4865-a3cf-7c06541af033",
        "colab": {
          "base_uri": "https://localhost:8080/"
        }
      },
      "outputs": [
        {
          "output_type": "stream",
          "name": "stdout",
          "text": [
            "False\n",
            "True\n",
            "False\n",
            "True\n"
          ]
        }
      ],
      "source": [
        "# Boolean conversions\n",
        "print(bool(0))      # False\n",
        "print(bool(42))     # True\n",
        "print(bool(\"\"))     # False\n",
        "print(bool(\"Hi\"))   # True"
      ]
    },
    {
      "cell_type": "markdown",
      "metadata": {
        "id": "yJzrST405_qF"
      },
      "source": [
        "### QUESTION\n",
        "What will happen if you try the following?\n",
        "```\n",
        "print(bool(-1))\n",
        "```"
      ]
    },
    {
      "cell_type": "code",
      "execution_count": 30,
      "metadata": {
        "id": "dp1zAFA1nIWG",
        "outputId": "9a4099b0-5716-40b0-89c6-9e25444079d3",
        "colab": {
          "base_uri": "https://localhost:8080/"
        }
      },
      "outputs": [
        {
          "output_type": "stream",
          "name": "stdout",
          "text": [
            "True\n"
          ]
        }
      ],
      "source": [
        "print(bool(-1))"
      ]
    },
    {
      "cell_type": "markdown",
      "metadata": {
        "id": "BnKFd2UznIWG"
      },
      "source": [
        "# Exercise 1:\n",
        "Take age as an input, check its type, add 10 to it and show the output."
      ]
    },
    {
      "cell_type": "code",
      "execution_count": 40,
      "metadata": {
        "id": "E5v2NG6EnIWG",
        "outputId": "09e7c8dc-7f31-48a6-e03b-228808004ff6",
        "colab": {
          "base_uri": "https://localhost:8080/"
        }
      },
      "outputs": [
        {
          "output_type": "stream",
          "name": "stdout",
          "text": [
            "Enter your age?20\n",
            "<class 'str'>\n",
            "30\n"
          ]
        }
      ],
      "source": [
        "msg=input(\"Enter your age?\")\n",
        "#msg=int(input(\"Enter your age?\"))\n",
        "print(type(msg))\n",
        "age_num=int(msg)\n",
        "print(age_num+10)\n"
      ]
    },
    {
      "cell_type": "markdown",
      "metadata": {
        "id": "8Kq8b8j2lCRf"
      },
      "source": [
        "# 5. Conditional Statements - The Decision Makers 🤔\n",
        "Teaching your code to make choices"
      ]
    },
    {
      "cell_type": "code",
      "execution_count": 42,
      "metadata": {
        "id": "9KXjE1Xc5Z-r",
        "outputId": "b008f3b2-4ca6-419a-8b45-bc18576fb472",
        "colab": {
          "base_uri": "https://localhost:8080/"
        }
      },
      "outputs": [
        {
          "output_type": "stream",
          "name": "stdout",
          "text": [
            "🥶 Brrr! Stay inside!\n"
          ]
        }
      ],
      "source": [
        "temperature = 2\n",
        "\n",
        "if temperature > 30:\n",
        "    print(\"🔥 It's hot! Time for ice cream!\")\n",
        "elif temperature > 20:\n",
        "    print(\"🌤️ Perfect weather!\")\n",
        "elif temperature > 10:\n",
        "    print(\"🧥 Grab a jacket!\")\n",
        "else:\n",
        "    print(\"🥶 Brrr! Stay inside!\")"
      ]
    },
    {
      "cell_type": "markdown",
      "metadata": {
        "id": "Z4U9OvadnIWH"
      },
      "source": [
        "### QUESTION\n",
        "What will happen if you try the following?\n",
        "```\n",
        "mood = \"happy\" if temperature > 20 else \"grumpy\"\n",
        "print(mood)\n",
        "```"
      ]
    },
    {
      "cell_type": "code",
      "execution_count": 44,
      "metadata": {
        "id": "qMzXIAE7nIWI",
        "outputId": "f683f20f-bec8-42e3-85aa-6a3ff811a8fa",
        "colab": {
          "base_uri": "https://localhost:8080/"
        }
      },
      "outputs": [
        {
          "output_type": "stream",
          "name": "stdout",
          "text": [
            "happy\n"
          ]
        }
      ],
      "source": [
        "temperature=30\n",
        "if temperature>20:\n",
        "  print(\"happy\")\n",
        "else:\n",
        "  print(\"grumpy\")"
      ]
    },
    {
      "cell_type": "markdown",
      "metadata": {
        "id": "Vmh3AJBGnIWJ"
      },
      "source": [
        "# 6. Comparison Operators - The Judges ⚖️"
      ]
    },
    {
      "cell_type": "code",
      "execution_count": null,
      "metadata": {
        "id": "GqeU4-Kd77Ra"
      },
      "outputs": [],
      "source": [
        "# The usual suspects\n",
        "print(5 == 5)    # True (equal)\n",
        "print(5 != 3)    # True (not equal)\n",
        "print(5 > 3)     # True (greater)\n",
        "print(5 < 3)     # False (less)\n",
        "print(5 >= 5)    # True (greater or equal)\n",
        "print(5 <= 4)    # False (less or equal)"
      ]
    },
    {
      "cell_type": "code",
      "execution_count": null,
      "metadata": {
        "id": "71xMWNd4nIWK"
      },
      "outputs": [],
      "source": [
        "# String comparisons\n",
        "print(\"apple\" == \"apple\")  # True\n",
        "print(\"Apple\" == \"apple\")  # False (case sensitive!)"
      ]
    },
    {
      "cell_type": "markdown",
      "metadata": {
        "id": "RUt6jqNMnIWX"
      },
      "source": [
        "### QUESTION\n",
        "What will happen if you try the following?\n",
        "```\n",
        "user_age = 18\n",
        "can_vote = user_age >= 18\n",
        "print(f\"Can vote:\", can_vote)\n",
        "```"
      ]
    },
    {
      "cell_type": "code",
      "execution_count": 47,
      "metadata": {
        "id": "FhWxURzanIWY",
        "outputId": "b5cdaaf0-7f49-4848-c73e-e3b092fa8abb",
        "colab": {
          "base_uri": "https://localhost:8080/"
        }
      },
      "outputs": [
        {
          "output_type": "stream",
          "name": "stdout",
          "text": [
            "Can vote: False\n"
          ]
        }
      ],
      "source": [
        "user_age = 8\n",
        "can_vote = user_age >= 18\n",
        "print(\"Can vote:\", can_vote)"
      ]
    },
    {
      "cell_type": "markdown",
      "metadata": {
        "id": "0pf9kl8CnIWZ"
      },
      "source": [
        "# 7. Logical Operators - The Connectors 🔗\n",
        "Combining conditions like a logic ninja"
      ]
    },
    {
      "cell_type": "code",
      "execution_count": 49,
      "metadata": {
        "id": "DJWbCfZn-uQ8"
      },
      "outputs": [],
      "source": [
        "age = 25\n",
        "has_license = True\n",
        "has_car = False"
      ]
    },
    {
      "cell_type": "code",
      "execution_count": 50,
      "metadata": {
        "id": "GhmZ9WSqnIWZ",
        "outputId": "b96c1ee7-5770-488d-d096-d6d5723eeccf",
        "colab": {
          "base_uri": "https://localhost:8080/"
        }
      },
      "outputs": [
        {
          "output_type": "stream",
          "name": "stdout",
          "text": [
            "Can drive: True\n"
          ]
        }
      ],
      "source": [
        "# AND - both must be true\n",
        "can_drive = age >= 16 and has_license\n",
        "print(f\"Can drive: {can_drive}\")"
      ]
    },
    {
      "cell_type": "code",
      "execution_count": 51,
      "metadata": {
        "id": "im_dfQUrnIWa",
        "outputId": "5b89c938-3509-4b05-9e74-bd343b8e6b4e",
        "colab": {
          "base_uri": "https://localhost:8080/"
        }
      },
      "outputs": [
        {
          "output_type": "stream",
          "name": "stdout",
          "text": [
            "Can travel: True\n"
          ]
        }
      ],
      "source": [
        "# OR - at least one must be true\n",
        "can_travel = has_car or has_license\n",
        "print(f\"Can travel: {can_travel}\")"
      ]
    },
    {
      "cell_type": "code",
      "execution_count": 52,
      "metadata": {
        "id": "DM_ekNN7nIWa",
        "outputId": "3d143f35-7e72-4b26-b240-b5c105f6c297",
        "colab": {
          "base_uri": "https://localhost:8080/"
        }
      },
      "outputs": [
        {
          "output_type": "stream",
          "name": "stdout",
          "text": [
            "Is minor: False\n"
          ]
        }
      ],
      "source": [
        "# NOT - flip the boolean\n",
        "is_minor = not (age >= 18)\n",
        "print(f\"Is minor: {is_minor}\")"
      ]
    },
    {
      "cell_type": "markdown",
      "metadata": {
        "id": "86qK8SiUnIWa"
      },
      "source": [
        "### QUESTION\n",
        "What will happen if you try the following?\n",
        "```\n",
        "can_uber = (age >= 18) and (not has_car) and has_license\n",
        "```"
      ]
    },
    {
      "cell_type": "code",
      "execution_count": 56,
      "metadata": {
        "id": "PH8ztdfWnIWb",
        "outputId": "09aa6d6d-ea4e-45e8-df97-81b13095301e",
        "colab": {
          "base_uri": "https://localhost:8080/"
        }
      },
      "outputs": [
        {
          "output_type": "stream",
          "name": "stdout",
          "text": [
            "True\n"
          ]
        }
      ],
      "source": [
        "can_uber = (age >= 18) and (not has_car) and has_license\n",
        "print(can_uber)"
      ]
    },
    {
      "cell_type": "markdown",
      "metadata": {
        "id": "CAn3nP_YnIWb"
      },
      "source": [
        "# Exercise 2:\n",
        "Take age as an input of someone you like and print if they are minor, adult or senior citizen\n",
        "\n",
        "Hint:\n",
        "minor (0 - 16)\n",
        "adult (17 - 70)\n",
        "senior citizen (71 - 1000)"
      ]
    },
    {
      "cell_type": "code",
      "execution_count": 59,
      "metadata": {
        "id": "RWnHbJ1unIWb",
        "outputId": "023d852e-60d2-4494-c193-948528f3db8b",
        "colab": {
          "base_uri": "https://localhost:8080/"
        }
      },
      "outputs": [
        {
          "output_type": "stream",
          "name": "stdout",
          "text": [
            "Enter your age:-09\n",
            "Enter the vaild age.\n"
          ]
        }
      ],
      "source": [
        "msg=int(input(\"Enter your age:\"))\n",
        "if msg<16 and msg==0:\n",
        "  print(\"Minor\")\n",
        "elif msg>17 and msg>70:\n",
        "  print(\"Adult\")\n",
        "elif msg>71:\n",
        "  print(\"Senior citizen\")\n",
        "else:\n",
        "  print(\"Enter the vaild age.\")"
      ]
    },
    {
      "cell_type": "markdown",
      "metadata": {
        "id": "5amOyd8vnIWb"
      },
      "source": [
        "# 8. For Loops - The Repetition Masters 🔄\n",
        "When you need to do something multiple times"
      ]
    },
    {
      "cell_type": "code",
      "execution_count": 60,
      "metadata": {
        "id": "V3uwFcDFnIWc",
        "outputId": "e5d48571-565d-41e7-9821-99e9339f723f",
        "colab": {
          "base_uri": "https://localhost:8080/"
        }
      },
      "outputs": [
        {
          "output_type": "stream",
          "name": "stdout",
          "text": [
            "Count: 0\n",
            "Count: 1\n",
            "Count: 2\n",
            "Count: 3\n",
            "Count: 4\n"
          ]
        }
      ],
      "source": [
        "# Basic counting\n",
        "for i in range(5):\n",
        "    print(f\"Count: {i}\")"
      ]
    },
    {
      "cell_type": "code",
      "execution_count": 61,
      "metadata": {
        "id": "Z1jC1SghnIWc",
        "outputId": "e72f6134-ff99-4ab5-b15e-5c05bd676b33",
        "colab": {
          "base_uri": "https://localhost:8080/"
        }
      },
      "outputs": [
        {
          "output_type": "stream",
          "name": "stdout",
          "text": [
            "🎯\n",
            "🎯🎯\n",
            "🎯🎯🎯\n",
            "🎯🎯🎯🎯\n",
            "🎯🎯🎯🎯🎯\n"
          ]
        }
      ],
      "source": [
        "# Counting with style\n",
        "for i in range(1, 6):\n",
        "    print(\"🎯\" * i)"
      ]
    },
    {
      "cell_type": "code",
      "execution_count": 62,
      "metadata": {
        "id": "Lg0MqzVqnIWd",
        "outputId": "5116e51c-a6db-4136-8a15-2b637950372f",
        "colab": {
          "base_uri": "https://localhost:8080/"
        }
      },
      "outputs": [
        {
          "output_type": "stream",
          "name": "stdout",
          "text": [
            "I love apple!\n",
            "I love banana!\n",
            "I love cherry!\n"
          ]
        }
      ],
      "source": [
        "# Looping through lists\n",
        "fruits = [\"apple\", \"banana\", \"cherry\"]\n",
        "for fruit in fruits:\n",
        "    print(f\"I love {fruit}!\")"
      ]
    },
    {
      "cell_type": "code",
      "execution_count": 63,
      "metadata": {
        "id": "KIBMA-8vnIWd",
        "outputId": "119ca23f-2466-4159-f47d-e6f2055e5509",
        "colab": {
          "base_uri": "https://localhost:8080/"
        }
      },
      "outputs": [
        {
          "output_type": "stream",
          "name": "stdout",
          "text": [
            "Letter: P\n",
            "Letter: Y\n",
            "Letter: T\n",
            "Letter: H\n",
            "Letter: O\n",
            "Letter: N\n"
          ]
        }
      ],
      "source": [
        "# Looping through strings\n",
        "for letter in \"PYTHON\":\n",
        "    print(f\"Letter: {letter}\")"
      ]
    },
    {
      "cell_type": "markdown",
      "metadata": {
        "id": "oQZdfIwjnIWe"
      },
      "source": [
        "### QUESTION\n",
        "What will happen if you try the following?\n",
        "```\n",
        "netaharu = [\"kp\", \"sheru\", \"puspa\"]\n",
        "for index, neta in enumerate(netaharu):\n",
        "    print(f\"{index}: {neta}\")\n",
        "```"
      ]
    },
    {
      "cell_type": "code",
      "execution_count": null,
      "metadata": {
        "id": "lxsYrCEenIWe"
      },
      "outputs": [],
      "source": []
    },
    {
      "cell_type": "markdown",
      "metadata": {
        "id": "hUQtWPUknIWf"
      },
      "source": [
        "# 9. While Loops - The Persistent Ones 🔁\n",
        "Keep going until something changes"
      ]
    },
    {
      "cell_type": "code",
      "execution_count": null,
      "metadata": {
        "id": "BNhB-TzdnIWg"
      },
      "outputs": [],
      "source": [
        "# Basic while loop\n",
        "countdown = 5\n",
        "while countdown > 0:\n",
        "    print(f\"Countdown: {countdown}\")\n",
        "    countdown -= 1    # countdown = countdown - 1\n",
        "print(\"🚀 Blast off!\")"
      ]
    },
    {
      "cell_type": "code",
      "execution_count": 64,
      "metadata": {
        "id": "Fnpfh2h1nIWg",
        "outputId": "c6528ca1-1f3f-4b44-a730-48b86f723799",
        "colab": {
          "base_uri": "https://localhost:8080/"
        }
      },
      "outputs": [
        {
          "output_type": "stream",
          "name": "stdout",
          "text": [
            "Enter password: d\n",
            "❌ Wrong password!\n",
            "Enter password: gse\n",
            "❌ Wrong password!\n",
            "Enter password: sg\n",
            "❌ Wrong password!\n",
            "Enter password: r\n",
            "❌ Wrong password!\n",
            "Enter password: g\n",
            "❌ Wrong password!\n",
            "Enter password: s\n",
            "❌ Wrong password!\n",
            "Enter password: secret\n",
            "✅ Access granted!\n"
          ]
        }
      ],
      "source": [
        "# User input loop\n",
        "password = \"\"\n",
        "while password != \"secret\":\n",
        "    password = input(\"Enter password: \")\n",
        "    if password != \"secret\":\n",
        "        print(\"❌ Wrong password!\")\n",
        "print(\"✅ Access granted!\")"
      ]
    },
    {
      "cell_type": "markdown",
      "metadata": {
        "id": "s6g_wu7RnIWi"
      },
      "source": [
        "#### Infinite loop (careful!)\n",
        "```\n",
        "while True:\n",
        "        print(\"This runs forever!\")\n",
        "```"
      ]
    },
    {
      "cell_type": "markdown",
      "metadata": {
        "id": "s9SEv29qnIWj"
      },
      "source": [
        "# Exercise 3\n",
        "Print out which numbers are odd and which are even in between range of numbers of your choice."
      ]
    },
    {
      "cell_type": "code",
      "execution_count": 67,
      "metadata": {
        "id": "7XLBtutwnIWk",
        "outputId": "48b6fc3b-4858-4e12-889b-2c5756e8d089",
        "colab": {
          "base_uri": "https://localhost:8080/"
        }
      },
      "outputs": [
        {
          "output_type": "stream",
          "name": "stdout",
          "text": [
            "odd\n",
            "Even\n",
            "odd\n",
            "Even\n",
            "odd\n",
            "Even\n",
            "odd\n",
            "Even\n",
            "odd\n",
            "Even\n"
          ]
        }
      ],
      "source": [
        "for i in range(1,11):\n",
        "  if i%2==0:\n",
        "    print(\"Even\")\n",
        "  else:\n",
        "     print(\"odd\")\n",
        ""
      ]
    },
    {
      "cell_type": "markdown",
      "metadata": {
        "id": "aPK4JSCznIWl"
      },
      "source": [
        "\n",
        "# 10. Functions - Your Code Helpers 🛠️\n",
        "Creating reusable blocks of code"
      ]
    },
    {
      "cell_type": "code",
      "execution_count": 68,
      "metadata": {
        "id": "3WeuGxBanIWl",
        "outputId": "e919cc71-c49a-4867-d267-cee060a60be8",
        "colab": {
          "base_uri": "https://localhost:8080/"
        }
      },
      "outputs": [
        {
          "output_type": "stream",
          "name": "stdout",
          "text": [
            "Hello, World!\n"
          ]
        }
      ],
      "source": [
        "# Basic function\n",
        "def greet():\n",
        "    print(\"Hello, World!\")\n",
        "\n",
        "greet()"
      ]
    },
    {
      "cell_type": "code",
      "execution_count": 69,
      "metadata": {
        "id": "vCEYExSfnIWm",
        "outputId": "17fcfd3e-88ee-4363-edf4-e2fa72b07daa",
        "colab": {
          "base_uri": "https://localhost:8080/"
        }
      },
      "outputs": [
        {
          "output_type": "stream",
          "name": "stdout",
          "text": [
            "Hello, Alice!\n"
          ]
        }
      ],
      "source": [
        "# Function with parameters\n",
        "def greet_person(name):\n",
        "    print(f\"Hello, {name}!\")\n",
        "\n",
        "greet_person(\"Alice\")"
      ]
    },
    {
      "cell_type": "code",
      "execution_count": 70,
      "metadata": {
        "id": "rhxemI9InIWm",
        "outputId": "4ed8da56-9162-4107-e2aa-e7d6bd746b02",
        "colab": {
          "base_uri": "https://localhost:8080/"
        }
      },
      "outputs": [
        {
          "output_type": "stream",
          "name": "stdout",
          "text": [
            "Sum: 8\n"
          ]
        }
      ],
      "source": [
        "# Function with return value\n",
        "def add_numbers(a, b):\n",
        "    result = a + b\n",
        "    return result\n",
        "\n",
        "sum_result = add_numbers(5, 3)\n",
        "print(f\"Sum: {sum_result}\")"
      ]
    },
    {
      "cell_type": "markdown",
      "metadata": {
        "id": "XFPJcXFmnIWn"
      },
      "source": [
        "# 11. Lists - The Ordered Collections 📝\n",
        "Storing multiple items in order"
      ]
    },
    {
      "cell_type": "code",
      "execution_count": 74,
      "metadata": {
        "id": "P9lmZj-OnIWo",
        "outputId": "9947cf23-5a70-4d7b-fac4-b8bf2d0c3058",
        "colab": {
          "base_uri": "https://localhost:8080/"
        }
      },
      "outputs": [
        {
          "output_type": "execute_result",
          "data": {
            "text/plain": [
              "['hello', 42, True, 3.14]"
            ]
          },
          "metadata": {},
          "execution_count": 74
        }
      ],
      "source": [
        "# Creating lists\n",
        "fruits = [\"apple\", \"banana\", \"cherry\"]\n",
        "numbers = [1, 2, 3, 4, 5]\n",
        "mixed = [\"hello\", 42, True, 3.14]\n",
        "mixed"
      ]
    },
    {
      "cell_type": "code",
      "execution_count": 75,
      "metadata": {
        "id": "21L5zDoenIWo",
        "outputId": "345f7a9b-5807-4e09-bed1-8c9bc9b3311f",
        "colab": {
          "base_uri": "https://localhost:8080/"
        }
      },
      "outputs": [
        {
          "output_type": "stream",
          "name": "stdout",
          "text": [
            "apple\n",
            "cherry\n"
          ]
        }
      ],
      "source": [
        "# Accessing elements\n",
        "print(fruits[0])     # apple (first item)\n",
        "print(fruits[-1])    # cherry (last item)"
      ]
    },
    {
      "cell_type": "code",
      "execution_count": 78,
      "metadata": {
        "id": "PjrU_iZ7nIWo",
        "outputId": "0b1f9395-ffa2-401c-ff08-3e0e81261df3",
        "colab": {
          "base_uri": "https://localhost:8080/"
        }
      },
      "outputs": [
        {
          "output_type": "execute_result",
          "data": {
            "text/plain": [
              "['banana', 'cherry']"
            ]
          },
          "metadata": {},
          "execution_count": 78
        }
      ],
      "source": [
        "# Slicing\n",
        "some_fruits = fruits[1:3]\n",
        "some_fruits"
      ]
    },
    {
      "cell_type": "code",
      "execution_count": 79,
      "metadata": {
        "id": "YG96-s-snIWp",
        "outputId": "e745e050-903b-48cb-aa1a-2c5927e1000e",
        "colab": {
          "base_uri": "https://localhost:8080/"
        }
      },
      "outputs": [
        {
          "output_type": "stream",
          "name": "stdout",
          "text": [
            "5\n",
            "5\n",
            "1\n",
            "15\n"
          ]
        }
      ],
      "source": [
        "# Useful methods\n",
        "print(len(numbers))\n",
        "print(max(numbers))\n",
        "print(min(numbers))\n",
        "print(sum(numbers))"
      ]
    },
    {
      "cell_type": "markdown",
      "metadata": {
        "id": "0EWsG0lCnIWp"
      },
      "source": [
        "### QUESTION\n",
        "What will happen if you try the following?\n",
        "```\n",
        "scores = [85, 92, 78, 96, 88]\n",
        "scores.sort()           \n",
        "print(scores)           \n",
        "\n",
        "scores.reverse()\n",
        "print(scores)  \n",
        "```"
      ]
    },
    {
      "cell_type": "code",
      "execution_count": 80,
      "metadata": {
        "id": "jdWeSPEwnIWq",
        "outputId": "faf21e29-0849-4f3f-cf75-7f688b282f0e",
        "colab": {
          "base_uri": "https://localhost:8080/"
        }
      },
      "outputs": [
        {
          "output_type": "stream",
          "name": "stdout",
          "text": [
            "[78, 85, 88, 92, 96]\n",
            "[96, 92, 88, 85, 78]\n"
          ]
        }
      ],
      "source": [
        "scores = [85, 92, 78, 96, 88]\n",
        "scores.sort()\n",
        "print(scores)\n",
        "\n",
        "scores.reverse()\n",
        "print(scores)"
      ]
    },
    {
      "cell_type": "markdown",
      "metadata": {
        "id": "npesmb8GnIWq"
      },
      "source": [
        "# 12. Dictionaries - The Key-Value Store 🗂️\n",
        "Storing data with meaningful labels"
      ]
    },
    {
      "cell_type": "code",
      "execution_count": 81,
      "metadata": {
        "id": "uDS9vGgxnIWq"
      },
      "outputs": [],
      "source": [
        "# Creating dictionaries\n",
        "student = {\n",
        "    \"name\": \"Ram\",\n",
        "    \"age\": 20,\n",
        "    \"grade\": \"A\",\n",
        "    \"subjects\": [\"Programming\", \"Engineering\"]\n",
        "}"
      ]
    },
    {
      "cell_type": "code",
      "execution_count": 82,
      "metadata": {
        "id": "sHns-JrJnIWr",
        "outputId": "a380fdd9-0f27-4b31-b3c3-b5c69b64a4f4",
        "colab": {
          "base_uri": "https://localhost:8080/"
        }
      },
      "outputs": [
        {
          "output_type": "stream",
          "name": "stdout",
          "text": [
            "Ram\n",
            "20\n"
          ]
        }
      ],
      "source": [
        "# Accessing values\n",
        "print(student[\"name\"])\n",
        "print(student.get(\"age\"))"
      ]
    },
    {
      "cell_type": "markdown",
      "metadata": {
        "id": "WM6rjyJEnIWv"
      },
      "source": [
        "### QUESTION\n",
        "What will happen if you try the following?\n",
        "```\n",
        "student[\"email\"] = \"ramu@example.com\"\n",
        "student[\"age\"] = 21\n",
        "print(student)\n",
        "```"
      ]
    },
    {
      "cell_type": "code",
      "execution_count": 83,
      "metadata": {
        "id": "NanDzuQOnIWv",
        "outputId": "3d4987d5-9959-4960-e3a4-fee6142df441",
        "colab": {
          "base_uri": "https://localhost:8080/"
        }
      },
      "outputs": [
        {
          "output_type": "stream",
          "name": "stdout",
          "text": [
            "{'name': 'Ram', 'age': 21, 'grade': 'A', 'subjects': ['Programming', 'Engineering'], 'email': 'ramu@example.com'}\n"
          ]
        }
      ],
      "source": [
        "student[\"email\"] = \"ramu@example.com\"\n",
        "student[\"age\"] = 21\n",
        "print(student)"
      ]
    },
    {
      "cell_type": "markdown",
      "metadata": {
        "id": "t5f3mlQGnIWv"
      },
      "source": [
        "# Exercise 4:\n",
        "Do **exercise 3** by using a function which prints if a number is even or odd. Use for loop in the given list and pass each number to the function.\n",
        "\n",
        "``` python\n",
        "[33, 42, 420, 69, 7]\n",
        "```"
      ]
    },
    {
      "cell_type": "code",
      "execution_count": null,
      "metadata": {
        "id": "OtsQQ-xlnIWw"
      },
      "outputs": [],
      "source": [
        "new_list=[33,42,420,]"
      ]
    },
    {
      "cell_type": "markdown",
      "metadata": {
        "id": "CaNi-iZLnIW3"
      },
      "source": [
        "# 13. Writing Reusable Scripts - The Philosophy 🎯\n",
        "From messy code to clean, reusable magic"
      ]
    },
    {
      "cell_type": "markdown",
      "metadata": {
        "id": "GSgHh4etnIW4"
      },
      "source": [
        "#### The Problem:"
      ]
    },
    {
      "cell_type": "code",
      "execution_count": null,
      "metadata": {
        "id": "-1hm_hrNnIW4"
      },
      "outputs": [],
      "source": [
        "# Messy script - does everything at once\n",
        "print(\"Calculator\")\n",
        "num1 = float(input(\"First number: \"))\n",
        "num2 = float(input(\"Second number: \"))\n",
        "result = num1 + num2\n",
        "print(f\"Result: {result}\")"
      ]
    },
    {
      "cell_type": "markdown",
      "metadata": {
        "id": "IqIymeF9nIW4"
      },
      "source": [
        " What if we want to multiply? Copy-paste everything? 😱"
      ]
    },
    {
      "cell_type": "markdown",
      "metadata": {
        "id": "1tzKDt2snIW5"
      },
      "source": [
        "#### The Solution:"
      ]
    },
    {
      "cell_type": "code",
      "execution_count": 84,
      "metadata": {
        "id": "SW1ZDVyznIW5"
      },
      "outputs": [],
      "source": [
        "# Clean, reusable functions\n",
        "def get_number(prompt):\n",
        "    return float(input(prompt))\n",
        "\n",
        "def calculate(num1, num2, operation):\n",
        "    if operation == \"add\":\n",
        "        return num1 + num2\n",
        "    elif operation == \"multiply\":\n",
        "        return num1 * num2\n",
        "    # More operations..."
      ]
    },
    {
      "cell_type": "markdown",
      "metadata": {
        "id": "kMqbpfhXnIW5"
      },
      "source": [
        "# 14. Python Classes - Creating Your Own Objects 🏗️\n",
        "Classes are like blueprints for creating objects. Think of them as cookie cutters!"
      ]
    },
    {
      "cell_type": "markdown",
      "metadata": {
        "id": "MI9_DmQ5nIW6"
      },
      "source": [
        "## Basic Class Example - Person\n",
        "Let's create a simple Person class to understand the basics"
      ]
    },
    {
      "cell_type": "code",
      "execution_count": null,
      "metadata": {
        "id": "G5jdAl7EnIW6"
      },
      "outputs": [],
      "source": [
        "# Creating a simple class\n",
        "class Person:\n",
        "    def __init__(self, name, age):\n",
        "        self.name = name\n",
        "        self.age = age\n",
        "\n",
        "    def greet(self):\n",
        "        return f\"Hello, my name is {self.name} and I'm {self.age} years old!\"\n",
        "\n",
        "\n",
        "# Creating objects (instances) from the class\n",
        "p1 = Person(\"KP Oli\", 72)\n",
        "p2 = Person(\"Prachanda\", 70)\n",
        "\n",
        "# Using methods\n",
        "print(p1.greet())\n",
        "print(p2.greet())\n",
        "\n",
        "# Accessing attributes\n",
        "print(f\"{p1.name} is {p1.age} years old\") # Bad Practice, but works"
      ]
    },
    {
      "cell_type": "code",
      "execution_count": null,
      "metadata": {
        "id": "XVLacWnSnIW6"
      },
      "outputs": [],
      "source": [
        "# Use Getters and Setters for better practice\n",
        "class Person:\n",
        "    def __init__(self, name, age):\n",
        "        self.name = name\n",
        "        self.age = age\n",
        "\n",
        "    def get_name(self):\n",
        "        return self.name\n",
        "\n",
        "    def get_age(self):\n",
        "        return self.age\n",
        "\n",
        "    def set_name(self, name):\n",
        "        self.name = name\n",
        "\n",
        "    def set_age(self, age):\n",
        "        self.age = age\n",
        "\n",
        "# Using class methods\n",
        "p1 = Person(\"Ramu\", 25)\n",
        "print(p1.get_name())\n",
        "print(p1.get_age())"
      ]
    },
    {
      "cell_type": "markdown",
      "metadata": {
        "id": "EN73F_UCnIW6"
      },
      "source": [
        "### QUESTION\n",
        "What will happen if you try the following?\n",
        "```python\n",
        "person3 = Person(\"Chandra\", 20)\n",
        "person3.hobby = \"Reading\"  # Adding a new attribute\n",
        "print(f\"{person3.name} likes {person3.hobby}\")\n",
        "```"
      ]
    },
    {
      "cell_type": "code",
      "execution_count": null,
      "metadata": {
        "id": "Qh-SJdCynIW8"
      },
      "outputs": [],
      "source": []
    },
    {
      "cell_type": "markdown",
      "metadata": {
        "id": "2m--aGTXnIW8"
      },
      "source": [
        "## Calculator Class Example\n",
        "Let's create a simple calculator using classes"
      ]
    },
    {
      "cell_type": "code",
      "execution_count": null,
      "metadata": {
        "id": "ZeHJtjvQnIW8"
      },
      "outputs": [],
      "source": [
        "class Calculator:\n",
        "    def add(self, a, b):\n",
        "        result = a + b\n",
        "\n",
        "        return result\n",
        "\n",
        "    def subtract(self, a, b):\n",
        "        result = a - b\n",
        "\n",
        "        return result\n",
        "\n",
        "    def multiply(self, a, b):\n",
        "        result = a * b\n",
        "\n",
        "        return result\n",
        "\n",
        "    def divide(self, a, b):\n",
        "        result = a / b\n",
        "\n",
        "        return result\n"
      ]
    },
    {
      "cell_type": "code",
      "execution_count": null,
      "metadata": {
        "id": "wNSJx7-AnIW9"
      },
      "outputs": [],
      "source": [
        "# Create a calculator object\n",
        "my_calc = Calculator()\n",
        "\n",
        "# Perform some calculations\n",
        "print(my_calc.add(10, 5))\n"
      ]
    },
    {
      "cell_type": "markdown",
      "metadata": {
        "id": "Fvf5apLVnIW-"
      },
      "source": [
        "# Exercise 5:\n",
        "- In similar fashion do divide, multiply\n",
        "- Try dividing by zero"
      ]
    },
    {
      "cell_type": "code",
      "execution_count": null,
      "metadata": {
        "id": "8vvTgc0nnIW-"
      },
      "outputs": [],
      "source": []
    },
    {
      "cell_type": "markdown",
      "metadata": {
        "id": "zhuNvz6onIW_"
      },
      "source": [
        "# 15. Error Handling - Expect the Unexpected 🛡️\n",
        "Making your scripts bulletproof"
      ]
    },
    {
      "cell_type": "code",
      "execution_count": null,
      "metadata": {
        "id": "xeJ8EP-dKG6w",
        "outputId": "4f9b7397-9518-4b5f-9192-b2614b63f75c"
      },
      "outputs": [
        {
          "ename": "ZeroDivisionError",
          "evalue": "division by zero",
          "output_type": "error",
          "traceback": [
            "\u001b[31m---------------------------------------------------------------------------\u001b[39m",
            "\u001b[31mZeroDivisionError\u001b[39m                         Traceback (most recent call last)",
            "\u001b[36mCell\u001b[39m\u001b[36m \u001b[39m\u001b[32mIn[16]\u001b[39m\u001b[32m, line 3\u001b[39m\n\u001b[32m      1\u001b[39m \u001b[38;5;66;03m#Divide by zero error\u001b[39;00m\n\u001b[32m      2\u001b[39m a = \u001b[32m10\u001b[39m\n\u001b[32m----> \u001b[39m\u001b[32m3\u001b[39m result = \u001b[43ma\u001b[49m\u001b[43m \u001b[49m\u001b[43m/\u001b[49m\u001b[43m \u001b[49m\u001b[32;43m0\u001b[39;49m\n\u001b[32m      4\u001b[39m \u001b[38;5;28mprint\u001b[39m(\u001b[33mf\u001b[39m\u001b[33m\"\u001b[39m\u001b[33mError: \u001b[39m\u001b[38;5;132;01m{\u001b[39;00me\u001b[38;5;132;01m}\u001b[39;00m\u001b[33m\"\u001b[39m)\n",
            "\u001b[31mZeroDivisionError\u001b[39m: division by zero"
          ]
        }
      ],
      "source": [
        "#Divide by zero error\n",
        "a = 10\n",
        "result = a / 0\n",
        "print(f\"Error: {e}\")"
      ]
    },
    {
      "cell_type": "code",
      "execution_count": null,
      "metadata": {
        "id": "qShxi4TdKG6w",
        "outputId": "77a106cd-1cc4-4326-be78-fe1d475a759d"
      },
      "outputs": [
        {
          "name": "stdout",
          "output_type": "stream",
          "text": [
            "Error: division by zero\n"
          ]
        }
      ],
      "source": [
        "#Divide by zero error\n",
        "a = 10\n",
        "try:\n",
        "    result = a / 0\n",
        "except Exception as e:\n",
        "    print(f\"Error: {e}\")"
      ]
    },
    {
      "cell_type": "code",
      "execution_count": null,
      "metadata": {
        "id": "iV55FPNhKG6x",
        "outputId": "05c5d5d1-c839-4e7a-8b55-d3b972115c91"
      },
      "outputs": [
        {
          "ename": "NameError",
          "evalue": "name 'naam_xyna' is not defined",
          "output_type": "error",
          "traceback": [
            "\u001b[31m---------------------------------------------------------------------------\u001b[39m",
            "\u001b[31mNameError\u001b[39m                                 Traceback (most recent call last)",
            "\u001b[36mCell\u001b[39m\u001b[36m \u001b[39m\u001b[32mIn[12]\u001b[39m\u001b[32m, line 1\u001b[39m\n\u001b[32m----> \u001b[39m\u001b[32m1\u001b[39m \u001b[38;5;28mprint\u001b[39m(\u001b[43mnaam_xyna\u001b[49m)\n",
            "\u001b[31mNameError\u001b[39m: name 'naam_xyna' is not defined"
          ]
        }
      ],
      "source": [
        "#Error when printing an undefined variable\n",
        "print(naam_xyna)"
      ]
    },
    {
      "cell_type": "code",
      "execution_count": null,
      "metadata": {
        "id": "kWrpwa-BKG6x",
        "outputId": "f2c06ed9-6fa8-4f68-c00b-4adcf0332678"
      },
      "outputs": [
        {
          "name": "stdout",
          "output_type": "stream",
          "text": [
            "Error: name 'naam_xyna' is not defined\n"
          ]
        }
      ],
      "source": [
        "#Name Error\n",
        "try:\n",
        "    print(naam_xyna)\n",
        "except Exception as e:\n",
        "    print(f\"Error: {e}\")"
      ]
    },
    {
      "cell_type": "code",
      "execution_count": null,
      "metadata": {
        "id": "yhG4hcznKG6y",
        "outputId": "8cc519bf-e02e-46a6-b049-1822e9482a28"
      },
      "outputs": [
        {
          "name": "stdout",
          "output_type": "stream",
          "text": [
            "Phaile define tw garnu parcha!\n"
          ]
        }
      ],
      "source": [
        "#You can except named exceptions directly and show your own message\n",
        "try:\n",
        "    print(naam_xyna)\n",
        "except NameError:\n",
        "    print(\"Phaile define tw garnu parcha!😉\")"
      ]
    },
    {
      "cell_type": "code",
      "execution_count": null,
      "metadata": {
        "id": "lqbig6gOKG6y",
        "outputId": "ca4a61f7-3cba-4bb2-8f0c-8ab0818534df"
      },
      "outputs": [
        {
          "name": "stdout",
          "output_type": "stream",
          "text": [
            "Kaha zero bata divide garyako.🤣\n"
          ]
        }
      ],
      "source": [
        "#You can except named exceptions directly and show your own message\n",
        "a = 10\n",
        "try:\n",
        "    test = a/0\n",
        "except ZeroDivisionError:\n",
        "    print(\"Kaha zero bata divide garyako.🤣\")"
      ]
    },
    {
      "cell_type": "code",
      "execution_count": null,
      "metadata": {
        "id": "yLx49DdJnIW_",
        "outputId": "541ec11e-3354-47ae-9abc-c3444a754d3a"
      },
      "outputs": [
        {
          "name": "stdout",
          "output_type": "stream",
          "text": [
            "Cannot divide by zero!\n"
          ]
        }
      ],
      "source": [
        "# Single Exception\n",
        "def safe_divide(a, b):\n",
        "    \"\"\"Division that won't crash your program\"\"\"\n",
        "    try:\n",
        "        result = a / b\n",
        "        return result\n",
        "    except ZeroDivisionError:\n",
        "        print(\"Cannot divide by zero!\")\n",
        "        return None\n",
        "    except TypeError:\n",
        "        print(\"Please provide numbers!\")\n",
        "        return None\n",
        "\n",
        "result = safe_divide(2, 0)"
      ]
    },
    {
      "cell_type": "markdown",
      "metadata": {
        "id": "qTcMeaTInIW_"
      },
      "source": [
        "# 16. File Operations - Reading and Writing 📁\n",
        "Making your scripts work with files"
      ]
    },
    {
      "cell_type": "markdown",
      "metadata": {
        "id": "VBcrF31fKG6z"
      },
      "source": [
        "### File Operation Modes\n",
        "- 'r' : Opens file for reading, error if not found.\n",
        "- 'w' : Opens file for writing, overwrites if exists.\n",
        "- 'a' : Opens file to append, creates if not exists."
      ]
    },
    {
      "cell_type": "markdown",
      "metadata": {
        "id": "C0raGqVfKG6z"
      },
      "source": [
        "## Aam Jindagi"
      ]
    },
    {
      "cell_type": "code",
      "execution_count": null,
      "metadata": {
        "id": "vVe7_HMUKG6z"
      },
      "outputs": [],
      "source": [
        "#Creating a file\n",
        "f = open(\"example.txt\", \"w\")\n",
        "f.write(\"Hello, World!\")\n",
        "f.close()"
      ]
    },
    {
      "cell_type": "code",
      "execution_count": null,
      "metadata": {
        "id": "9gnjln2aKG60"
      },
      "outputs": [],
      "source": [
        "#appending to the file\n",
        "f = open(\"example.txt\", \"a\")\n",
        "f.write(\" I am attending Software Fellowship!\")\n",
        "f.close()"
      ]
    },
    {
      "cell_type": "code",
      "execution_count": null,
      "metadata": {
        "id": "O9WqM11dKG60",
        "outputId": "b82ab7c8-f5da-4d73-b0ea-fdd3ea69214f"
      },
      "outputs": [
        {
          "name": "stdout",
          "output_type": "stream",
          "text": [
            "Hello, World! Appending some text! I am attending Python Fellowship!\n"
          ]
        }
      ],
      "source": [
        "#reading from the file\n",
        "f = open(\"example.txt\", \"r\")\n",
        "content = f.read()\n",
        "print(content)\n",
        "f.close()"
      ]
    },
    {
      "cell_type": "markdown",
      "metadata": {
        "id": "-72VCI97KG60"
      },
      "source": [
        "## Mentos Jindagi"
      ]
    },
    {
      "cell_type": "code",
      "execution_count": null,
      "metadata": {
        "id": "413LJ_pGKG60"
      },
      "outputs": [],
      "source": [
        "''' If you do just f = open(...), you must manually\n",
        "call f.close(), or the file might stay open, causing memory leaks or file lock issues. '''"
      ]
    },
    {
      "cell_type": "code",
      "execution_count": null,
      "metadata": {
        "id": "ye2VmoY-KG60"
      },
      "outputs": [],
      "source": [
        "#with keyword to create new file\n",
        "with open(\"sample2.txt\",'w') as f:\n",
        "    f.write(\"Selmon Bhai\")"
      ]
    },
    {
      "cell_type": "code",
      "execution_count": null,
      "metadata": {
        "id": "HlfbcajKKG60",
        "outputId": "1691137b-eaad-41a6-d1d1-56ec34d302be"
      },
      "outputs": [
        {
          "name": "stdout",
          "output_type": "stream",
          "text": [
            "Selmon Bhai\n"
          ]
        }
      ],
      "source": [
        "#with keyboard to read from file\n",
        "with open(\"sample2.txt\",'r') as f:\n",
        "    s = f.read()\n",
        "    print(s)"
      ]
    },
    {
      "cell_type": "markdown",
      "metadata": {
        "id": "GQaSQi0SKG61"
      },
      "source": [
        "Tips : `write only accept string so before writing to file convert numbers to string`"
      ]
    },
    {
      "cell_type": "markdown",
      "metadata": {
        "id": "9UEpNXFwKG61"
      },
      "source": [
        "### Q) Create a file named number to store starting 100 numbers"
      ]
    },
    {
      "cell_type": "code",
      "execution_count": null,
      "metadata": {
        "id": "B-3zxQ2MKG61"
      },
      "outputs": [],
      "source": [
        "#Code here: Hint: Use range(1,101) with for loop\n",
        "#print('str(i)')"
      ]
    },
    {
      "cell_type": "markdown",
      "metadata": {
        "id": "HFmxZn9lnIXA"
      },
      "source": [
        "# API Usage"
      ]
    },
    {
      "cell_type": "markdown",
      "metadata": {
        "id": "UURKaONGnIXB"
      },
      "source": [
        "# 17. Simple Currency Exchange System"
      ]
    },
    {
      "cell_type": "markdown",
      "metadata": {
        "id": "cRp6-ayvnIXB"
      },
      "source": [
        "[Open File](API-Usage/currency_exchange_system.py)"
      ]
    },
    {
      "cell_type": "code",
      "execution_count": null,
      "metadata": {
        "id": "qYgNlXZGnIXB"
      },
      "outputs": [],
      "source": []
    },
    {
      "cell_type": "markdown",
      "metadata": {
        "id": "5rMqcWWInIXC"
      },
      "source": [
        "# 18. Chat with Gemini"
      ]
    },
    {
      "cell_type": "markdown",
      "metadata": {
        "id": "6dFVnCIfnIXC"
      },
      "source": [
        "[Open File](API-Usage\\gemini_chat.py)"
      ]
    },
    {
      "cell_type": "code",
      "execution_count": null,
      "metadata": {
        "id": "RUyrcdFanIXD"
      },
      "outputs": [],
      "source": []
    },
    {
      "cell_type": "markdown",
      "metadata": {
        "id": "9wG6S2UNnIXD"
      },
      "source": [
        "# Lab/Assignment\n",
        "## Build a CLI tool that consumes an external API\n",
        "## Use key less API like:\n",
        "1.  #### Cat Facts\n",
        "- Get random cat facts via text message every day.\n",
        "```\n",
        "https://cat-fact.herokuapp.com/facts\n",
        "```\n",
        "\n",
        "2. #### Dogs\n",
        "- Cheer yourself up with random dog images.\n",
        "```\n",
        "https://dog.ceo/api/breeds/image/random\n",
        "```\n",
        "\n",
        "3. #### Jokes\n",
        "- Get random jokes. You can also get jokes according to type (e.g., programming jokes only).\n",
        "```\n",
        "https://official-joke-api.appspot.com/random_joke\n",
        "```\n",
        "\n",
        "4. #### Bored\n",
        "- Find something to do by getting suggestions for random activities.\n",
        "```\n",
        "https://www.boredapi.com/api/activity\n",
        "```\n",
        "\n",
        "## Or use API with key like Gemini Above"
      ]
    }
  ],
  "metadata": {
    "colab": {
      "collapsed_sections": [
        "Tyi3ADg1k_Kb",
        "8Kq8b8j2lCRf",
        "Eap0oe3ulFlK",
        "gqRiowXelIi6",
        "Gmic3PW8lLe5",
        "Q6fxQnqElOIv",
        "seAUD-HZlROw",
        "FJ5p0UEQlUhE",
        "ZlfCzuNMlYS1",
        "wpuoUGdalbYY",
        "QktzDmgSld39"
      ],
      "provenance": []
    },
    "kernelspec": {
      "display_name": "myen",
      "language": "python",
      "name": "python3"
    },
    "language_info": {
      "codemirror_mode": {
        "name": "ipython",
        "version": 3
      },
      "file_extension": ".py",
      "mimetype": "text/x-python",
      "name": "python",
      "nbconvert_exporter": "python",
      "pygments_lexer": "ipython3",
      "version": "3.13.1"
    }
  },
  "nbformat": 4,
  "nbformat_minor": 0
}